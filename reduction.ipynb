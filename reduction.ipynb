{
  "cells": [
    {
      "cell_type": "code",
      "execution_count": null,
      "metadata": {
        "colab": {
          "base_uri": "https://localhost:8080/"
        },
        "id": "SfBGrygx88qx",
        "outputId": "9fbdd90d-ac82-4630-f598-3081ddb52b76"
      },
      "outputs": [
        {
          "name": "stdout",
          "output_type": "stream",
          "text": [
            "/usr/local\n",
            "bin    cuda\tcuda-12.2  games\t       include\tlib64\t   man\t share\n",
            "colab  cuda-12\tetc\t   _gcs_config_ops.so  lib\tlicensing  sbin  src\n"
          ]
        }
      ],
      "source": [
        "%cd /usr/local/\n",
        "!cd /usr/local/\n",
        "!ls"
      ]
    },
    {
      "cell_type": "code",
      "execution_count": null,
      "metadata": {
        "id": "slgGmjm631lV"
      },
      "outputs": [],
      "source": [
        "\n",
        "!rm -rf cuda\n",
        "!ln -s /usr/local/cuda-12.2 /usr/local/cuda"
      ]
    },
    {
      "cell_type": "code",
      "execution_count": null,
      "metadata": {
        "colab": {
          "base_uri": "https://localhost:8080/"
        },
        "id": "Xbwwqwxf86B3",
        "outputId": "d3b4408e-e0ae-4341-d1d2-4adb0cea2890"
      },
      "outputs": [
        {
          "name": "stdout",
          "output_type": "stream",
          "text": [
            "  File: cuda -> /usr/local/cuda-12.2\n",
            "  Size: 20        \tBlocks: 0          IO Block: 4096   symbolic link\n",
            "Device: 37h/55d\tInode: 3932509     Links: 1\n",
            "Access: (0777/lrwxrwxrwx)  Uid: (    0/    root)   Gid: (    0/    root)\n",
            "Access: 2024-05-29 17:52:44.276782276 +0000\n",
            "Modify: 2024-05-29 17:52:44.155770472 +0000\n",
            "Change: 2024-05-29 17:52:44.155770472 +0000\n",
            " Birth: 2024-05-29 17:52:44.155770472 +0000\n"
          ]
        }
      ],
      "source": [
        "!stat cuda"
      ]
    },
    {
      "cell_type": "markdown",
      "metadata": {
        "id": "bq5vBUQnZ8xv"
      },
      "source": [
        "Merge Sort\n",
        "CPU and GPU"
      ]
    },
    {
      "cell_type": "code",
      "execution_count": null,
      "metadata": {
        "colab": {
          "base_uri": "https://localhost:8080/"
        },
        "id": "LhRkKJeAZ2nl",
        "outputId": "3ea774e9-e894-4e59-9b24-dec5a1db0c73"
      },
      "outputs": [
        {
          "output_type": "stream",
          "name": "stdout",
          "text": [
            "Overwriting reduction.cu\n"
          ]
        }
      ],
      "source": [
        "%%writefile reduction.cu\n",
        "#include \"cuda_runtime.h\"\n",
        "#include \"device_launch_parameters.h\"\n",
        "#include <cstdlib>\n",
        "#include <ctime>\n",
        "#include <algorithm>\n",
        "#include <cuda.h>\n",
        "#include <iostream>\n",
        "\n",
        "#define MAX_THREADS_PER_BLOCK 1024\n",
        "\n",
        "void bitonicSortCPU(int* array, int length)\n",
        "{\n",
        "    for (int k = 2; k <= length; k *= 2)\n",
        "    {\n",
        "        for (int j = k / 2; j > 0; j /= 2)\n",
        "        {\n",
        "            for (int i = 0; i < length; i++)\n",
        "            {\n",
        "                int ixj = i ^ j;\n",
        "\n",
        "                if (ixj > i)\n",
        "                {\n",
        "                    if ((i & k) == 0)\n",
        "                    {\n",
        "                        if (array[i] > array[ixj])\n",
        "                        {\n",
        "                            std::swap(array[i], array[ixj]);\n",
        "                        }\n",
        "                    }\n",
        "                    else\n",
        "                    {\n",
        "                        if (array[i] < array[ixj])\n",
        "                        {\n",
        "                            std::swap(array[i], array[ixj]);\n",
        "                        }\n",
        "                    }\n",
        "                }\n",
        "            }\n",
        "        }\n",
        "    }\n",
        "}\n",
        "\n",
        "__global__ void bitonicSortGPU(int* array, int j, int k)\n",
        "{\n",
        "    unsigned int i = threadIdx.x + blockDim.x * blockIdx.x;\n",
        "    unsigned int ixj = i ^ j;\n",
        "\n",
        "    if (ixj > i)\n",
        "    {\n",
        "        if ((i & k) == 0)\n",
        "        {\n",
        "            if (array[i] > array[ixj])\n",
        "            {\n",
        "                int temp = array[i];\n",
        "                array[i] = array[ixj];\n",
        "                array[ixj] = temp;\n",
        "            }\n",
        "        }\n",
        "        else\n",
        "        {\n",
        "            if (array[i] < array[ixj])\n",
        "            {\n",
        "                int temp = array[i];\n",
        "                array[i] = array[ixj];\n",
        "                array[ixj] = temp;\n",
        "            }\n",
        "        }\n",
        "    }\n",
        "}\n",
        "\n",
        "void displayArray(int* array, int size)\n",
        "{\n",
        "    for (int i = 0; i < size; ++i)\n",
        "        std::cout << array[i] << \" \";\n",
        "    std::cout << std::endl;\n",
        "}\n",
        "\n",
        "int main()\n",
        "{\n",
        "    int arraySize = 1 << 20;\n",
        "    int* hostArray = new int[arraySize];\n",
        "    int* hostArrayCopy = new int[arraySize];\n",
        "\n",
        "    int* deviceArray;\n",
        "    int* deviceTempArray;\n",
        "\n",
        "    // Initialize the array with random values\n",
        "    srand(static_cast<unsigned int>(time(nullptr)));\n",
        "    for (int i = 0; i < arraySize; ++i)\n",
        "    {\n",
        "        hostArray[i] = rand() % 100;\n",
        "        hostArrayCopy[i] = hostArray[i];\n",
        "    }\n",
        "\n",
        "    // Print unsorted array\n",
        "    std::cout << \"\\n\\nUnsorted array: \";\n",
        "    if (arraySize <= 100)\n",
        "    {\n",
        "        displayArray(hostArray, arraySize);\n",
        "    }\n",
        "    else\n",
        "    {\n",
        "        std::cout << \"\\nArray too large to print.\\n\";\n",
        "    }\n",
        "\n",
        "    // Allocate memory on GPU\n",
        "    cudaMalloc((void**)&deviceTempArray, arraySize * sizeof(int));\n",
        "    cudaMalloc((void**)&deviceArray, arraySize * sizeof(int));\n",
        "\n",
        "    // Copy the input array to GPU memory\n",
        "    cudaMemcpy(deviceArray, hostArray, arraySize * sizeof(int), cudaMemcpyHostToDevice);\n",
        "\n",
        "    // Perform GPU bitonic sort and measure time\n",
        "    cudaEvent_t startGPU, stopGPU;\n",
        "    cudaEventCreate(&startGPU);\n",
        "    cudaEventCreate(&stopGPU);\n",
        "    float gpuElapsedTime = 0;\n",
        "\n",
        "    // Initialize CPU clock counters\n",
        "    clock_t startCPU, endCPU;\n",
        "\n",
        "    // Set number of threads and blocks for kernel calls\n",
        "    int threadsPerBlock = MAX_THREADS_PER_BLOCK;\n",
        "    int blocksPerGrid = (arraySize + threadsPerBlock - 1) / threadsPerBlock;\n",
        "\n",
        "    // Time the run and call GPU Bitonic Kernel\n",
        "    cudaEventRecord(startGPU);\n",
        "    for (int k = 2; k <= arraySize; k <<= 1)\n",
        "    {\n",
        "        for (int j = k >> 1; j > 0; j >>= 1)\n",
        "        {\n",
        "            bitonicSortGPU <<<blocksPerGrid, threadsPerBlock>>> (deviceArray, j, k);\n",
        "        }\n",
        "    }\n",
        "    cudaEventRecord(stopGPU);\n",
        "\n",
        "    // Transfer sorted array back to CPU\n",
        "    cudaMemcpy(hostArray, deviceArray, arraySize * sizeof(int), cudaMemcpyDeviceToHost);\n",
        "    cudaEventSynchronize(stopGPU);\n",
        "    cudaEventElapsedTime(&gpuElapsedTime, startGPU, stopGPU);\n",
        "\n",
        "    // Time the run and call CPU Bitonic Sort\n",
        "    startCPU = clock();\n",
        "    bitonicSortCPU(hostArrayCopy, arraySize);\n",
        "    endCPU = clock();\n",
        "\n",
        "    // Calculate elapsed CPU time\n",
        "    double cpuElapsedTime = static_cast<double>(endCPU - startCPU) / (CLOCKS_PER_SEC / 1000.0);\n",
        "\n",
        "    // Display sorted GPU array\n",
        "    std::cout << \"\\n\\nSorted GPU array: \";\n",
        "    if (arraySize <= 100)\n",
        "    {\n",
        "        displayArray(hostArray, arraySize);\n",
        "    }\n",
        "    else\n",
        "    {\n",
        "        std::cout << \"\\nArray too large to print\\n\";\n",
        "    }\n",
        "\n",
        "    // Display sorted CPU array\n",
        "    std::cout << \"\\nSorted CPU array: \";\n",
        "    if (arraySize <= 100)\n",
        "    {\n",
        "        displayArray(hostArrayCopy, arraySize);\n",
        "    }\n",
        "    else\n",
        "    {\n",
        "        std::cout << \"\\nArray too large to print\\n\";\n",
        "    }\n",
        "\n",
        "    // Print the time of the runs\n",
        "    std::cout << \"\\n\\nGPU Time: \" << gpuElapsedTime << \" ms\" << std::endl;\n",
        "    std::cout << \"\\n\\nCPU Time: \" << cpuElapsedTime << \" ms\" << std::endl;\n",
        "\n",
        "    // Clean up memory\n",
        "    delete[] hostArray;\n",
        "    delete[] hostArrayCopy;\n",
        "\n",
        "    cudaFree(deviceArray);\n",
        "    cudaFree(deviceTempArray);\n",
        "\n",
        "    return 0;\n",
        "}\n"
      ]
    },
    {
      "cell_type": "markdown",
      "metadata": {
        "id": "ot3-Bw7RjRzj"
      },
      "source": []
    },
    {
      "cell_type": "code",
      "execution_count": null,
      "metadata": {
        "id": "GYEIrjxD9Egm"
      },
      "outputs": [],
      "source": [
        "!nvcc -o reduction reduction.cu"
      ]
    },
    {
      "cell_type": "code",
      "execution_count": null,
      "metadata": {
        "colab": {
          "base_uri": "https://localhost:8080/"
        },
        "id": "ougL5tBC9GxF",
        "outputId": "f597729c-b3f3-406f-cc3c-2e198b14e07f"
      },
      "outputs": [
        {
          "output_type": "stream",
          "name": "stdout",
          "text": [
            "\n",
            "\n",
            "Unsorted array: \n",
            "Array too large to print.\n",
            "\n",
            "\n",
            "Sorted GPU array: \n",
            "Array too large to print\n",
            "\n",
            "Sorted CPU array: \n",
            "Array too large to print\n",
            "\n",
            "\n",
            "GPU Time: 6.99309 ms\n",
            "\n",
            "\n",
            "CPU Time: 1079.69 ms\n"
          ]
        }
      ],
      "source": [
        "!./reduction\n"
      ]
    },
    {
      "cell_type": "code",
      "source": [],
      "metadata": {
        "id": "gWCfBfs_8xI-"
      },
      "execution_count": null,
      "outputs": []
    }
  ],
  "metadata": {
    "accelerator": "GPU",
    "colab": {
      "gpuType": "T4",
      "provenance": []
    },
    "kernelspec": {
      "display_name": "Python 3",
      "name": "python3"
    },
    "language_info": {
      "name": "python"
    }
  },
  "nbformat": 4,
  "nbformat_minor": 0
}